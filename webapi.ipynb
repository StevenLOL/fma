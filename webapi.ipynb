{
 "cells": [
  {
   "cell_type": "markdown",
   "metadata": {},
   "source": [
    "# FMA: A Dataset For Music Analysis\n",
    "\n",
    "Kirell Benzi, Michaël Defferrard, Pierre Vandergheynst, Xavier Bresson, EPFL LTS2.\n",
    "\n",
    "## Free Music Archive web API\n",
    "\n",
    "All the data in the `fma.json` DataFrame was collected from the Free Music Archive [public API](https://freemusicarchive.org/api). With this notebook, you can:\n",
    "* reconstruct the original data, \n",
    "* update some fields, e.g. the `track_listens` (play count),\n",
    "* augment the data with other (potentially newer) fields provided by their API but not included in the release,\n",
    "* update the dataset with new songs added to the archive.\n",
    "\n",
    "Notes:\n",
    "* You need a key to access the API, which you can [request online](https://freemusicarchive.org/api/agreement) and write into your `.env` file as a new line reading `FMA_KEY=MYPERSONALKEY`.\n",
    "* Requests take some hunderd milliseconds to complete."
   ]
  },
  {
   "cell_type": "code",
   "execution_count": 1,
   "metadata": {
    "collapsed": false
   },
   "outputs": [],
   "source": [
    "import utils\n",
    "import IPython.display as ipd\n",
    "import requests\n",
    "import os"
   ]
  },
  {
   "cell_type": "code",
   "execution_count": 2,
   "metadata": {
    "collapsed": false
   },
   "outputs": [],
   "source": [
    "fma = utils.FreeMusicArchive(os.environ.get('FMA_KEY'))"
   ]
  },
  {
   "cell_type": "markdown",
   "metadata": {},
   "source": [
    "## 1 Get recently added tracks\n",
    "\n",
    "Note that `track_id` are assigned in monotonically increasing order. Tracks may be removed, so that number does not indicate the number of available tracks."
   ]
  },
  {
   "cell_type": "code",
   "execution_count": 3,
   "metadata": {
    "collapsed": false
   },
   "outputs": [
    {
     "name": "stdout",
     "output_type": "stream",
     "text": [
      "154632 3/13/2017 08:34:22 PM Greg Cartwright\n",
      "154631 3/13/2017 08:34:22 PM Greg Cartwright\n",
      "154630 3/13/2017 08:34:21 PM Greg Cartwright\n",
      "154629 3/13/2017 08:34:21 PM Greg Cartwright\n",
      "154628 3/13/2017 08:34:20 PM Greg Cartwright\n",
      "154627 3/13/2017 08:34:20 PM Greg Cartwright\n",
      "154626 3/13/2017 08:34:19 PM Greg Cartwright\n",
      "154625 3/13/2017 08:34:19 PM Greg Cartwright\n",
      "154624 3/13/2017 08:34:18 PM Greg Cartwright\n",
      "154623 3/13/2017 08:34:18 PM Greg Cartwright\n",
      "154622 3/13/2017 08:34:17 PM Greg Cartwright\n",
      "154621 3/13/2017 08:34:17 PM Greg Cartwright\n",
      "154620 3/13/2017 08:34:16 PM Greg Cartwright\n",
      "154619 3/13/2017 08:34:16 PM Greg Cartwright\n",
      "154618 3/13/2017 08:34:15 PM Greg Cartwright\n",
      "154617 3/13/2017 08:34:15 PM Greg Cartwright\n",
      "154616 3/13/2017 08:34:14 PM Greg Cartwright\n",
      "154615 3/13/2017 08:34:13 PM Greg Cartwright\n",
      "154614 3/13/2017 04:17:14 PM Zumaia\n",
      "154613 3/13/2017 04:17:14 PM Yoghurt For Breakfast\n"
     ]
    }
   ],
   "source": [
    "for track_id, artist_name, date_created in zip(*fma.get_recent_tracks()):\n",
    "    print(track_id, date_created, artist_name)"
   ]
  },
  {
   "cell_type": "markdown",
   "metadata": {},
   "source": [
    "## 2 Get meta-data about tracks, albums and artists\n",
    "\n",
    "Given IDs, we can get information about tracks, albums and artists. See the available fields in the [API documentation](https://freemusicarchive.org/api)."
   ]
  },
  {
   "cell_type": "code",
   "execution_count": 4,
   "metadata": {
    "collapsed": false
   },
   "outputs": [
    {
     "data": {
      "text/plain": [
       "{'album_id': '1',\n",
       " 'artist_id': '1',\n",
       " 'track_bit_rate': '256000',\n",
       " 'track_comments': '0',\n",
       " 'track_date_created': '11/26/2008 01:44:47 AM',\n",
       " 'track_duration': '02:48',\n",
       " 'track_favorites': '2',\n",
       " 'track_interest': '4655',\n",
       " 'track_listens': '1292',\n",
       " 'track_title': 'Food'}"
      ]
     },
     "execution_count": 4,
     "metadata": {},
     "output_type": "execute_result"
    }
   ],
   "source": [
    "fma.get_track(track_id=2, fields=['track_title', 'track_date_created',\n",
    "                                  'track_duration', 'track_bit_rate',\n",
    "                                  'track_listens', 'track_interest', 'track_comments', 'track_favorites',\n",
    "                                  'artist_id', 'album_id'])"
   ]
  },
  {
   "cell_type": "code",
   "execution_count": 5,
   "metadata": {
    "collapsed": false
   },
   "outputs": [
    {
     "data": {
      "text/plain": [
       "(['76', '103'], ['Experimental Pop', 'Singer-Songwriter'])"
      ]
     },
     "execution_count": 5,
     "metadata": {},
     "output_type": "execute_result"
    }
   ],
   "source": [
    "fma.get_track_genres(track_id=20)"
   ]
  },
  {
   "cell_type": "code",
   "execution_count": 6,
   "metadata": {
    "collapsed": false
   },
   "outputs": [
    {
     "data": {
      "text/plain": [
       "{'album_comments': '0',\n",
       " 'album_date_created': '11/26/2008 01:44:45 AM',\n",
       " 'album_date_released': '1/05/2009',\n",
       " 'album_favorites': '4',\n",
       " 'album_listens': '6067',\n",
       " 'album_title': 'AWOL - A Way Of Life',\n",
       " 'album_tracks': '7'}"
      ]
     },
     "execution_count": 6,
     "metadata": {},
     "output_type": "execute_result"
    }
   ],
   "source": [
    "fma.get_album(album_id=1, fields=['album_title', 'album_tracks',\n",
    "                                  'album_listens', 'album_comments', 'album_favorites',\n",
    "                                  'album_date_created', 'album_date_released'])"
   ]
  },
  {
   "cell_type": "code",
   "execution_count": 7,
   "metadata": {
    "collapsed": false
   },
   "outputs": [
    {
     "data": {
      "text/plain": [
       "{'artist_comments': '0',\n",
       " 'artist_favorites': '9',\n",
       " 'artist_location': 'New Jersey',\n",
       " 'artist_name': 'AWOL'}"
      ]
     },
     "execution_count": 7,
     "metadata": {},
     "output_type": "execute_result"
    }
   ],
   "source": [
    "fma.get_artist(artist_id=1, fields=['artist_name', 'artist_location',\n",
    "                                    'artist_comments', 'artist_favorites'])"
   ]
  },
  {
   "cell_type": "markdown",
   "metadata": {},
   "source": [
    "## 3 Get data, i.e. raw audio\n",
    "\n",
    "We can download the original track as well. Tracks are provided by the archive as MP3 with various bitrates."
   ]
  },
  {
   "cell_type": "code",
   "execution_count": 8,
   "metadata": {
    "collapsed": false
   },
   "outputs": [],
   "source": [
    "fma.download_track(track_id=2, path='track.mp3')"
   ]
  },
  {
   "cell_type": "markdown",
   "metadata": {},
   "source": [
    "## 4 Get genres\n",
    "\n",
    "Instead of compiling the genres of each track, we can get all the genres present on the archive by some API calls."
   ]
  },
  {
   "cell_type": "code",
   "execution_count": 9,
   "metadata": {
    "collapsed": false,
    "deletable": true,
    "editable": true
   },
   "outputs": [
    {
     "name": "stdout",
     "output_type": "stream",
     "text": [
      "164 genres\n"
     ]
    },
    {
     "data": {
      "text/html": [
       "<div>\n",
       "<table border=\"1\" class=\"dataframe\">\n",
       "  <thead>\n",
       "    <tr style=\"text-align: right;\">\n",
       "      <th></th>\n",
       "      <th>genre_parent_id</th>\n",
       "      <th>genre_title</th>\n",
       "    </tr>\n",
       "    <tr>\n",
       "      <th>genre_id</th>\n",
       "      <th></th>\n",
       "      <th></th>\n",
       "    </tr>\n",
       "  </thead>\n",
       "  <tbody>\n",
       "    <tr>\n",
       "      <th>11</th>\n",
       "      <td>14</td>\n",
       "      <td>Disco</td>\n",
       "    </tr>\n",
       "    <tr>\n",
       "      <th>12</th>\n",
       "      <td>0</td>\n",
       "      <td>Rock</td>\n",
       "    </tr>\n",
       "    <tr>\n",
       "      <th>13</th>\n",
       "      <td>126</td>\n",
       "      <td>Easy Listening</td>\n",
       "    </tr>\n",
       "    <tr>\n",
       "      <th>14</th>\n",
       "      <td>0</td>\n",
       "      <td>Soul-RnB</td>\n",
       "    </tr>\n",
       "    <tr>\n",
       "      <th>15</th>\n",
       "      <td>0</td>\n",
       "      <td>Electronic</td>\n",
       "    </tr>\n",
       "    <tr>\n",
       "      <th>16</th>\n",
       "      <td>6</td>\n",
       "      <td>Sound Effects</td>\n",
       "    </tr>\n",
       "    <tr>\n",
       "      <th>17</th>\n",
       "      <td>0</td>\n",
       "      <td>Folk</td>\n",
       "    </tr>\n",
       "    <tr>\n",
       "      <th>18</th>\n",
       "      <td>1235</td>\n",
       "      <td>Soundtrack</td>\n",
       "    </tr>\n",
       "    <tr>\n",
       "      <th>19</th>\n",
       "      <td>14</td>\n",
       "      <td>Funk</td>\n",
       "    </tr>\n",
       "    <tr>\n",
       "      <th>20</th>\n",
       "      <td>0</td>\n",
       "      <td>Spoken</td>\n",
       "    </tr>\n",
       "    <tr>\n",
       "      <th>21</th>\n",
       "      <td>0</td>\n",
       "      <td>Hip-Hop</td>\n",
       "    </tr>\n",
       "    <tr>\n",
       "      <th>22</th>\n",
       "      <td>38</td>\n",
       "      <td>Audio Collage</td>\n",
       "    </tr>\n",
       "    <tr>\n",
       "      <th>25</th>\n",
       "      <td>12</td>\n",
       "      <td>Punk</td>\n",
       "    </tr>\n",
       "    <tr>\n",
       "      <th>26</th>\n",
       "      <td>12</td>\n",
       "      <td>Post-Rock</td>\n",
       "    </tr>\n",
       "    <tr>\n",
       "      <th>27</th>\n",
       "      <td>12</td>\n",
       "      <td>Lo-Fi</td>\n",
       "    </tr>\n",
       "  </tbody>\n",
       "</table>\n",
       "</div>"
      ],
      "text/plain": [
       "          genre_parent_id     genre_title\n",
       "genre_id                                 \n",
       "11                     14           Disco\n",
       "12                      0            Rock\n",
       "13                    126  Easy Listening\n",
       "14                      0        Soul-RnB\n",
       "15                      0      Electronic\n",
       "16                      6   Sound Effects\n",
       "17                      0            Folk\n",
       "18                   1235      Soundtrack\n",
       "19                     14            Funk\n",
       "20                      0          Spoken\n",
       "21                      0         Hip-Hop\n",
       "22                     38   Audio Collage\n",
       "25                     12            Punk\n",
       "26                     12       Post-Rock\n",
       "27                     12           Lo-Fi"
      ]
     },
     "execution_count": 9,
     "metadata": {},
     "output_type": "execute_result"
    }
   ],
   "source": [
    "genres = utils.Genres(fma.get_all_genres())\n",
    "print('{} genres'.format(genres.df.shape[0]))\n",
    "genres.df[10:25]"
   ]
  },
  {
   "cell_type": "markdown",
   "metadata": {},
   "source": [
    "And look for genres related to Rock."
   ]
  },
  {
   "cell_type": "code",
   "execution_count": 10,
   "metadata": {
    "collapsed": false
   },
   "outputs": [
    {
     "data": {
      "text/html": [
       "<div>\n",
       "<table border=\"1\" class=\"dataframe\">\n",
       "  <thead>\n",
       "    <tr style=\"text-align: right;\">\n",
       "      <th></th>\n",
       "      <th>genre_parent_id</th>\n",
       "      <th>genre_title</th>\n",
       "    </tr>\n",
       "    <tr>\n",
       "      <th>genre_id</th>\n",
       "      <th></th>\n",
       "      <th></th>\n",
       "    </tr>\n",
       "  </thead>\n",
       "  <tbody>\n",
       "    <tr>\n",
       "      <th>12</th>\n",
       "      <td>0</td>\n",
       "      <td>Rock</td>\n",
       "    </tr>\n",
       "    <tr>\n",
       "      <th>26</th>\n",
       "      <td>12</td>\n",
       "      <td>Post-Rock</td>\n",
       "    </tr>\n",
       "    <tr>\n",
       "      <th>45</th>\n",
       "      <td>12</td>\n",
       "      <td>Loud-Rock</td>\n",
       "    </tr>\n",
       "    <tr>\n",
       "      <th>53</th>\n",
       "      <td>45</td>\n",
       "      <td>Noise-Rock</td>\n",
       "    </tr>\n",
       "    <tr>\n",
       "      <th>58</th>\n",
       "      <td>12</td>\n",
       "      <td>Psych-Rock</td>\n",
       "    </tr>\n",
       "    <tr>\n",
       "      <th>66</th>\n",
       "      <td>12</td>\n",
       "      <td>Indie-Rock</td>\n",
       "    </tr>\n",
       "    <tr>\n",
       "      <th>113</th>\n",
       "      <td>26</td>\n",
       "      <td>Space-Rock</td>\n",
       "    </tr>\n",
       "    <tr>\n",
       "      <th>169</th>\n",
       "      <td>9</td>\n",
       "      <td>Rockabilly</td>\n",
       "    </tr>\n",
       "    <tr>\n",
       "      <th>440</th>\n",
       "      <td>12</td>\n",
       "      <td>Rock Opera</td>\n",
       "    </tr>\n",
       "  </tbody>\n",
       "</table>\n",
       "</div>"
      ],
      "text/plain": [
       "          genre_parent_id genre_title\n",
       "genre_id                             \n",
       "12                      0        Rock\n",
       "26                     12   Post-Rock\n",
       "45                     12   Loud-Rock\n",
       "53                     45  Noise-Rock\n",
       "58                     12  Psych-Rock\n",
       "66                     12  Indie-Rock\n",
       "113                    26  Space-Rock\n",
       "169                     9  Rockabilly\n",
       "440                    12  Rock Opera"
      ]
     },
     "execution_count": 10,
     "metadata": {},
     "output_type": "execute_result"
    }
   ],
   "source": [
    "genres.df[['Rock' in title for title in genres.df['genre_title']]]"
   ]
  },
  {
   "cell_type": "code",
   "execution_count": 11,
   "metadata": {
    "collapsed": false,
    "deletable": true,
    "editable": true
   },
   "outputs": [
    {
     "data": {
      "text/html": [
       "<div>\n",
       "<table border=\"1\" class=\"dataframe\">\n",
       "  <thead>\n",
       "    <tr style=\"text-align: right;\">\n",
       "      <th></th>\n",
       "      <th>genre_parent_id</th>\n",
       "      <th>genre_title</th>\n",
       "    </tr>\n",
       "    <tr>\n",
       "      <th>genre_id</th>\n",
       "      <th></th>\n",
       "      <th></th>\n",
       "    </tr>\n",
       "  </thead>\n",
       "  <tbody>\n",
       "    <tr>\n",
       "      <th>25</th>\n",
       "      <td>12</td>\n",
       "      <td>Punk</td>\n",
       "    </tr>\n",
       "    <tr>\n",
       "      <th>26</th>\n",
       "      <td>12</td>\n",
       "      <td>Post-Rock</td>\n",
       "    </tr>\n",
       "    <tr>\n",
       "      <th>27</th>\n",
       "      <td>12</td>\n",
       "      <td>Lo-Fi</td>\n",
       "    </tr>\n",
       "    <tr>\n",
       "      <th>31</th>\n",
       "      <td>12</td>\n",
       "      <td>Metal</td>\n",
       "    </tr>\n",
       "    <tr>\n",
       "      <th>36</th>\n",
       "      <td>12</td>\n",
       "      <td>Krautrock</td>\n",
       "    </tr>\n",
       "    <tr>\n",
       "      <th>45</th>\n",
       "      <td>12</td>\n",
       "      <td>Loud-Rock</td>\n",
       "    </tr>\n",
       "    <tr>\n",
       "      <th>58</th>\n",
       "      <td>12</td>\n",
       "      <td>Psych-Rock</td>\n",
       "    </tr>\n",
       "    <tr>\n",
       "      <th>66</th>\n",
       "      <td>12</td>\n",
       "      <td>Indie-Rock</td>\n",
       "    </tr>\n",
       "    <tr>\n",
       "      <th>70</th>\n",
       "      <td>12</td>\n",
       "      <td>Industrial</td>\n",
       "    </tr>\n",
       "    <tr>\n",
       "      <th>85</th>\n",
       "      <td>12</td>\n",
       "      <td>Garage</td>\n",
       "    </tr>\n",
       "    <tr>\n",
       "      <th>88</th>\n",
       "      <td>12</td>\n",
       "      <td>New Wave</td>\n",
       "    </tr>\n",
       "    <tr>\n",
       "      <th>98</th>\n",
       "      <td>12</td>\n",
       "      <td>Progressive</td>\n",
       "    </tr>\n",
       "    <tr>\n",
       "      <th>314</th>\n",
       "      <td>12</td>\n",
       "      <td>Goth</td>\n",
       "    </tr>\n",
       "    <tr>\n",
       "      <th>359</th>\n",
       "      <td>12</td>\n",
       "      <td>Shoegaze</td>\n",
       "    </tr>\n",
       "    <tr>\n",
       "      <th>440</th>\n",
       "      <td>12</td>\n",
       "      <td>Rock Opera</td>\n",
       "    </tr>\n",
       "  </tbody>\n",
       "</table>\n",
       "</div>"
      ],
      "text/plain": [
       "          genre_parent_id  genre_title\n",
       "genre_id                              \n",
       "25                     12         Punk\n",
       "26                     12    Post-Rock\n",
       "27                     12        Lo-Fi\n",
       "31                     12        Metal\n",
       "36                     12    Krautrock\n",
       "45                     12    Loud-Rock\n",
       "58                     12   Psych-Rock\n",
       "66                     12   Indie-Rock\n",
       "70                     12   Industrial\n",
       "85                     12       Garage\n",
       "88                     12     New Wave\n",
       "98                     12  Progressive\n",
       "314                    12         Goth\n",
       "359                    12     Shoegaze\n",
       "440                    12   Rock Opera"
      ]
     },
     "execution_count": 11,
     "metadata": {},
     "output_type": "execute_result"
    }
   ],
   "source": [
    "genres.df[genres.df['genre_parent_id'] == 12]"
   ]
  },
  {
   "cell_type": "markdown",
   "metadata": {},
   "source": [
    "As genres have parent genres, we can plot a tree using the [DOT] language.\n",
    "\n",
    "[DOT]: https://en.wikipedia.org/wiki/DOT_(graph_description_language)"
   ]
  },
  {
   "cell_type": "code",
   "execution_count": 12,
   "metadata": {
    "collapsed": false
   },
   "outputs": [
    {
     "data": {
      "image/png": "[encoded data removed]",
      "text/plain": [
       "<IPython.core.display.Image object>"
      ]
     },
     "execution_count": 12,
     "metadata": {},
     "output_type": "execute_result"
    }
   ],
   "source": [
    "graph = genres.create_tree([25, 31], 1)\n",
    "ipd.Image(graph.create_png())"
   ]
  },
  {
   "cell_type": "markdown",
   "metadata": {},
   "source": [
    "Data cleaning: some genres returned by the archive have a `parent_id` which does not exist."
   ]
  },
  {
   "cell_type": "code",
   "execution_count": 13,
   "metadata": {
    "collapsed": false
   },
   "outputs": [],
   "source": [
    "# 13 (Easy Listening) has parent 126 which is missing\n",
    "# --> a root genre on the website, altough not in the genre menu\n",
    "genres.df.loc[13, 'genre_parent_id'] = 0\n",
    "\n",
    "# 580 (Abstract Hip-Hop) has parent 1172 which is missing\n",
    "# --> listed as children of Hip-Hop on the website\n",
    "genres.df.loc[580, 'genre_parent_id'] = 21\n",
    "\n",
    "# 810 (Nu-Jazz) has parent 51 which is missing\n",
    "# --> children of Easy Listening on website\n",
    "genres.df.loc[810, 'genre_parent_id'] = 13"
   ]
  },
  {
   "cell_type": "markdown",
   "metadata": {},
   "source": [
    "Save the full genre tree as a PDF."
   ]
  },
  {
   "cell_type": "code",
   "execution_count": 14,
   "metadata": {
    "collapsed": false
   },
   "outputs": [
    {
     "name": "stdout",
     "output_type": "stream",
     "text": [
      "16 roots\n"
     ]
    }
   ],
   "source": [
    "roots = genres.find_roots()\n",
    "print('{} roots'.format(len(roots)))\n",
    "graph = genres.create_tree(roots)\n",
    "graph.write_pdf('genres.pdf');"
   ]
  }
 ],
 "metadata": {
  "kernelspec": {
   "display_name": "Python 3",
   "language": "python",
   "name": "python3"
  },
  "language_info": {
   "codemirror_mode": {
    "name": "ipython",
    "version": 3
   },
   "file_extension": ".py",
   "mimetype": "text/x-python",
   "name": "python",
   "nbconvert_exporter": "python",
   "pygments_lexer": "ipython3",
   "version": "3.6.0"
  }
 },
 "nbformat": 4,
 "nbformat_minor": 2
}
